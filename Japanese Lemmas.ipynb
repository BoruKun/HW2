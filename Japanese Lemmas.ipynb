{
 "cells": [
  {
   "cell_type": "markdown",
   "metadata": {},
   "source": [
    "# Визуализация данных по самым частым леммам японского языка\n",
    "В данном датасете представлены данные по частотам 15000 самых употребляемых лемм японского языка. Подгрузим данные и посмотрим на их структуру."
   ]
  },
  {
   "cell_type": "code",
   "execution_count": 1,
   "metadata": {},
   "outputs": [],
   "source": [
    "# Import statements\n",
    "import pandas as pd\n",
    "import matplotlib.pyplot as plt\n",
    "import numpy as np\n",
    "import seaborn as sns\n",
    "from charguana import get_charset"
   ]
  },
  {
   "cell_type": "code",
   "execution_count": 2,
   "metadata": {},
   "outputs": [],
   "source": [
    "data = pd.read_csv('./japanese_lemmas.csv')"
   ]
  },
  {
   "cell_type": "code",
   "execution_count": 3,
   "metadata": {},
   "outputs": [
    {
     "data": {
      "text/html": [
       "<div>\n",
       "<style scoped>\n",
       "    .dataframe tbody tr th:only-of-type {\n",
       "        vertical-align: middle;\n",
       "    }\n",
       "\n",
       "    .dataframe tbody tr th {\n",
       "        vertical-align: top;\n",
       "    }\n",
       "\n",
       "    .dataframe thead th {\n",
       "        text-align: right;\n",
       "    }\n",
       "</style>\n",
       "<table border=\"1\" class=\"dataframe\">\n",
       "  <thead>\n",
       "    <tr style=\"text-align: right;\">\n",
       "      <th></th>\n",
       "      <th>rank</th>\n",
       "      <th>frequency</th>\n",
       "      <th>lemma</th>\n",
       "    </tr>\n",
       "  </thead>\n",
       "  <tbody>\n",
       "    <tr>\n",
       "      <th>0</th>\n",
       "      <td>1</td>\n",
       "      <td>41309.50</td>\n",
       "      <td>の</td>\n",
       "    </tr>\n",
       "    <tr>\n",
       "      <th>1</th>\n",
       "      <td>2</td>\n",
       "      <td>23509.54</td>\n",
       "      <td>に</td>\n",
       "    </tr>\n",
       "    <tr>\n",
       "      <th>2</th>\n",
       "      <td>3</td>\n",
       "      <td>22216.80</td>\n",
       "      <td>は</td>\n",
       "    </tr>\n",
       "    <tr>\n",
       "      <th>3</th>\n",
       "      <td>4</td>\n",
       "      <td>20431.93</td>\n",
       "      <td>て</td>\n",
       "    </tr>\n",
       "    <tr>\n",
       "      <th>4</th>\n",
       "      <td>5</td>\n",
       "      <td>20326.59</td>\n",
       "      <td>を</td>\n",
       "    </tr>\n",
       "    <tr>\n",
       "      <th>5</th>\n",
       "      <td>6</td>\n",
       "      <td>20110.69</td>\n",
       "      <td>が</td>\n",
       "    </tr>\n",
       "    <tr>\n",
       "      <th>6</th>\n",
       "      <td>7</td>\n",
       "      <td>19235.55</td>\n",
       "      <td>だ</td>\n",
       "    </tr>\n",
       "    <tr>\n",
       "      <th>7</th>\n",
       "      <td>8</td>\n",
       "      <td>17292.36</td>\n",
       "      <td>た</td>\n",
       "    </tr>\n",
       "    <tr>\n",
       "      <th>8</th>\n",
       "      <td>9</td>\n",
       "      <td>16841.17</td>\n",
       "      <td>する</td>\n",
       "    </tr>\n",
       "    <tr>\n",
       "      <th>9</th>\n",
       "      <td>10</td>\n",
       "      <td>15095.29</td>\n",
       "      <td>と</td>\n",
       "    </tr>\n",
       "  </tbody>\n",
       "</table>\n",
       "</div>"
      ],
      "text/plain": [
       "   rank  frequency lemma\n",
       "0     1   41309.50     の\n",
       "1     2   23509.54     に\n",
       "2     3   22216.80     は\n",
       "3     4   20431.93     て\n",
       "4     5   20326.59     を\n",
       "5     6   20110.69     が\n",
       "6     7   19235.55     だ\n",
       "7     8   17292.36     た\n",
       "8     9   16841.17    する\n",
       "9    10   15095.29     と"
      ]
     },
     "execution_count": 3,
     "metadata": {},
     "output_type": "execute_result"
    }
   ],
   "source": [
    "data.head(10)"
   ]
  },
  {
   "cell_type": "markdown",
   "metadata": {},
   "source": [
    "Как вы можете видеть, все леммы сортированы по частотам и ранжированы. Для начала построим графики распределений частот лемм в зависимости от их длины."
   ]
  },
  {
   "cell_type": "code",
   "execution_count": 4,
   "metadata": {},
   "outputs": [
    {
     "data": {
      "image/png": "[encoded data removed]",
      "text/plain": [
       "<Figure size 936x360 with 2 Axes>"
      ]
     },
     "metadata": {
      "needs_background": "light"
     },
     "output_type": "display_data"
    }
   ],
   "source": [
    "data[\"len\"] = data['lemma'].apply(lambda x: len(x))\n",
    "\n",
    "fig, ax = plt.subplots(ncols=2, nrows=1, figsize=(13, 5))\n",
    "sns.countplot(data[\"len\"], palette=\"Paired\", ax=ax[0])\n",
    "ax[0].set_xlabel('Word Length')\n",
    "ax[0].grid()\n",
    "ax[0].set_title(\"Word Length Distribution\")\n",
    "sns.distplot(data[\"frequency\"].apply(lambda x: np.log(x)), color='magenta', ax=ax[1])\n",
    "ax[1].set_xlabel(\"log(frequency)\")\n",
    "ax[1].set_ylabel(\"Probability Density\")\n",
    "ax[1].set_title(\"Word Frequency Distribution\")\n",
    "ax[1].grid()\n",
    "plt.show()"
   ]
  },
  {
   "cell_type": "markdown",
   "metadata": {},
   "source": [
    "Как вы можете видеть, распределение имеет характерную форму, обусловленную законом Ципфа, который утверждает, что для корпуса естественного языка (японского, корейского и т. д.), частота каждой леммы обратно пропорциональна её рангу. Иначе говоря, слово с рангом 1 встречается в языке в два раза чаще, чем слово с рангом 2, в три раза чаще, чем слово с рангом 3 и т. д.  \n",
    "Попробуем теперь построить распределения частот для глаголов и остальных частей речи. Для этого учтем, что все глаголы в японском оканчиваются на определенные окончания (окуригана):"
   ]
  },
  {
   "cell_type": "code",
   "execution_count": 6,
   "metadata": {},
   "outputs": [
    {
     "name": "stdout",
     "output_type": "stream",
     "text": [
      "Процент слов, которые, вероятно, являются глаголами:  13.48 %\n"
     ]
    },
    {
     "data": {
      "text/html": [
       "<div>\n",
       "<style scoped>\n",
       "    .dataframe tbody tr th:only-of-type {\n",
       "        vertical-align: middle;\n",
       "    }\n",
       "\n",
       "    .dataframe tbody tr th {\n",
       "        vertical-align: top;\n",
       "    }\n",
       "\n",
       "    .dataframe thead th {\n",
       "        text-align: right;\n",
       "    }\n",
       "</style>\n",
       "<table border=\"1\" class=\"dataframe\">\n",
       "  <thead>\n",
       "    <tr style=\"text-align: right;\">\n",
       "      <th></th>\n",
       "      <th>rank</th>\n",
       "      <th>frequency</th>\n",
       "      <th>lemma</th>\n",
       "      <th>len</th>\n",
       "      <th>verb indicator</th>\n",
       "    </tr>\n",
       "  </thead>\n",
       "  <tbody>\n",
       "    <tr>\n",
       "      <th>8</th>\n",
       "      <td>9</td>\n",
       "      <td>16841.17</td>\n",
       "      <td>する</td>\n",
       "      <td>2</td>\n",
       "      <td>True</td>\n",
       "    </tr>\n",
       "    <tr>\n",
       "      <th>10</th>\n",
       "      <td>11</td>\n",
       "      <td>9604.49</td>\n",
       "      <td>ます</td>\n",
       "      <td>2</td>\n",
       "      <td>True</td>\n",
       "    </tr>\n",
       "    <tr>\n",
       "      <th>13</th>\n",
       "      <td>14</td>\n",
       "      <td>8140.22</td>\n",
       "      <td>いる</td>\n",
       "      <td>2</td>\n",
       "      <td>True</td>\n",
       "    </tr>\n",
       "    <tr>\n",
       "      <th>15</th>\n",
       "      <td>16</td>\n",
       "      <td>6766.19</td>\n",
       "      <td>ある</td>\n",
       "      <td>2</td>\n",
       "      <td>True</td>\n",
       "    </tr>\n",
       "    <tr>\n",
       "      <th>17</th>\n",
       "      <td>18</td>\n",
       "      <td>5780.62</td>\n",
       "      <td>です</td>\n",
       "      <td>2</td>\n",
       "      <td>True</td>\n",
       "    </tr>\n",
       "  </tbody>\n",
       "</table>\n",
       "</div>"
      ],
      "text/plain": [
       "    rank  frequency lemma  len  verb indicator\n",
       "8      9   16841.17    する    2            True\n",
       "10    11    9604.49    ます    2            True\n",
       "13    14    8140.22    いる    2            True\n",
       "15    16    6766.19    ある    2            True\n",
       "17    18    5780.62    です    2            True"
      ]
     },
     "execution_count": 6,
     "metadata": {},
     "output_type": "execute_result"
    }
   ],
   "source": [
    "verb_endings = ['う','く','す','つ','む','ぬ','る','ぐ','ぶ']\n",
    "\n",
    "data['verb indicator'] = data['lemma'].apply(lambda x: x[-1] in verb_endings)\n",
    "\n",
    "print(\"Процент слов, которые, вероятно, являются глаголами: \",\n",
    "      round(100*data['verb indicator'].sum()/len(data),2),'%')\n",
    "data[data['verb indicator']].head(5)"
   ]
  },
  {
   "cell_type": "code",
   "execution_count": 36,
   "metadata": {},
   "outputs": [
    {
     "name": "stdout",
     "output_type": "stream",
     "text": [
      ">> Распределения частот слов по длинам, распределения логарифмов частот глаголов и остальных слов японского языка\n"
     ]
    },
    {
     "data": {
      "text/plain": [
       "Text(0.5, 1.0, 'Распределения частот слов по длинам')"
      ]
     },
     "execution_count": 36,
     "metadata": {},
     "output_type": "execute_result"
    },
    {
     "data": {
      "image/png": "[encoded data removed]",
      "text/plain": [
       "<Figure size 936x360 with 2 Axes>"
      ]
     },
     "metadata": {
      "needs_background": "light"
     },
     "output_type": "display_data"
    }
   ],
   "source": [
    "data_not_skewed = data[data[\"len\"]<10] # Исключим точки, сильно отклоняющиеся по длине\n",
    "fig, ax = plt.subplots(ncols=2, nrows=1, figsize=(13, 5))\n",
    "sns.violinplot(data_not_skewed[\"len\"], data_not_skewed[\"frequency\"].apply(lambda x: np.log(x)), ax=ax[0])\n",
    "\n",
    "data[\"log freq\"] = data[\"frequency\"].apply(lambda x: np.log(x))\n",
    "\n",
    "print(\">> Распределения частот слов по длинам, распределения логарифмов частот глаголов и остальных слов японского языка\")\n",
    "verbs = []\n",
    "non_verbs = []\n",
    "for dummy_i in range(len(data[\"verb indicator\"])):\n",
    "    if data[\"verb indicator\"][dummy_i] == False:\n",
    "        non_verbs.append(np.log(data[\"frequency\"][dummy_i]))\n",
    "    else:\n",
    "        verbs.append(np.log(data[\"frequency\"][dummy_i]))\n",
    "sns.distplot(verbs, color='blue', ax=ax[1], label=\"Verbs\")\n",
    "sns.distplot(non_verbs, color='green', ax=ax[1], label=\"Non-verbs\")\n",
    "ax[1].grid()\n",
    "ax[1].legend()\n",
    "ax[1].set_xlabel(\"log(частота)\")\n",
    "ax[1].set_ylabel(\"Плотность вероятности\")\n",
    "ax[1].set_title(\"Распределения частот по глаголам и не-глаголам\")\n",
    "ax[0].set_title(\"Распределения частот слов по длинам\")"
   ]
  },
  {
   "cell_type": "markdown",
   "metadata": {},
   "source": [
    "Как вы можете видеть выше, слева построен график распределений частот с учетом разных длин слов: для всех слов определенной длины построены свои распределения. "
   ]
  },
  {
   "cell_type": "code",
   "execution_count": 9,
   "metadata": {},
   "outputs": [
    {
     "data": {
      "text/html": [
       "<div>\n",
       "<style scoped>\n",
       "    .dataframe tbody tr th:only-of-type {\n",
       "        vertical-align: middle;\n",
       "    }\n",
       "\n",
       "    .dataframe tbody tr th {\n",
       "        vertical-align: top;\n",
       "    }\n",
       "\n",
       "    .dataframe thead th {\n",
       "        text-align: right;\n",
       "    }\n",
       "</style>\n",
       "<table border=\"1\" class=\"dataframe\">\n",
       "  <thead>\n",
       "    <tr style=\"text-align: right;\">\n",
       "      <th></th>\n",
       "      <th>rank</th>\n",
       "      <th>frequency</th>\n",
       "      <th>lemma</th>\n",
       "      <th>len</th>\n",
       "      <th>verb indicator</th>\n",
       "      <th>log freq</th>\n",
       "    </tr>\n",
       "  </thead>\n",
       "  <tbody>\n",
       "    <tr>\n",
       "      <th>0</th>\n",
       "      <td>1</td>\n",
       "      <td>41309.50</td>\n",
       "      <td>の</td>\n",
       "      <td>1</td>\n",
       "      <td>False</td>\n",
       "      <td>10.628848</td>\n",
       "    </tr>\n",
       "    <tr>\n",
       "      <th>1</th>\n",
       "      <td>2</td>\n",
       "      <td>23509.54</td>\n",
       "      <td>に</td>\n",
       "      <td>1</td>\n",
       "      <td>False</td>\n",
       "      <td>10.065162</td>\n",
       "    </tr>\n",
       "    <tr>\n",
       "      <th>2</th>\n",
       "      <td>3</td>\n",
       "      <td>22216.80</td>\n",
       "      <td>は</td>\n",
       "      <td>1</td>\n",
       "      <td>False</td>\n",
       "      <td>10.008604</td>\n",
       "    </tr>\n",
       "    <tr>\n",
       "      <th>3</th>\n",
       "      <td>4</td>\n",
       "      <td>20431.93</td>\n",
       "      <td>て</td>\n",
       "      <td>1</td>\n",
       "      <td>False</td>\n",
       "      <td>9.924854</td>\n",
       "    </tr>\n",
       "    <tr>\n",
       "      <th>4</th>\n",
       "      <td>5</td>\n",
       "      <td>20326.59</td>\n",
       "      <td>を</td>\n",
       "      <td>1</td>\n",
       "      <td>False</td>\n",
       "      <td>9.919685</td>\n",
       "    </tr>\n",
       "    <tr>\n",
       "      <th>5</th>\n",
       "      <td>6</td>\n",
       "      <td>20110.69</td>\n",
       "      <td>が</td>\n",
       "      <td>1</td>\n",
       "      <td>False</td>\n",
       "      <td>9.909007</td>\n",
       "    </tr>\n",
       "    <tr>\n",
       "      <th>6</th>\n",
       "      <td>7</td>\n",
       "      <td>19235.55</td>\n",
       "      <td>だ</td>\n",
       "      <td>1</td>\n",
       "      <td>False</td>\n",
       "      <td>9.864515</td>\n",
       "    </tr>\n",
       "    <tr>\n",
       "      <th>7</th>\n",
       "      <td>8</td>\n",
       "      <td>17292.36</td>\n",
       "      <td>た</td>\n",
       "      <td>1</td>\n",
       "      <td>False</td>\n",
       "      <td>9.758020</td>\n",
       "    </tr>\n",
       "    <tr>\n",
       "      <th>8</th>\n",
       "      <td>9</td>\n",
       "      <td>16841.17</td>\n",
       "      <td>する</td>\n",
       "      <td>2</td>\n",
       "      <td>True</td>\n",
       "      <td>9.731582</td>\n",
       "    </tr>\n",
       "    <tr>\n",
       "      <th>9</th>\n",
       "      <td>10</td>\n",
       "      <td>15095.29</td>\n",
       "      <td>と</td>\n",
       "      <td>1</td>\n",
       "      <td>False</td>\n",
       "      <td>9.622138</td>\n",
       "    </tr>\n",
       "  </tbody>\n",
       "</table>\n",
       "</div>"
      ],
      "text/plain": [
       "   rank  frequency lemma  len  verb indicator   log freq\n",
       "0     1   41309.50     の    1           False  10.628848\n",
       "1     2   23509.54     に    1           False  10.065162\n",
       "2     3   22216.80     は    1           False  10.008604\n",
       "3     4   20431.93     て    1           False   9.924854\n",
       "4     5   20326.59     を    1           False   9.919685\n",
       "5     6   20110.69     が    1           False   9.909007\n",
       "6     7   19235.55     だ    1           False   9.864515\n",
       "7     8   17292.36     た    1           False   9.758020\n",
       "8     9   16841.17    する    2            True   9.731582\n",
       "9    10   15095.29     と    1           False   9.622138"
      ]
     },
     "execution_count": 9,
     "metadata": {},
     "output_type": "execute_result"
    }
   ],
   "source": [
    "data.head(10)"
   ]
  },
  {
   "cell_type": "markdown",
   "metadata": {},
   "source": [
    "Подсчитаем теперь, как распределены между собой разные типы письменности в японском: хирагана, катакана и кандзи. Слова, состоящие из исключительно каны, распределены по двум группам, а слова, имеющие в своем составе кандзи -- объединены в третью группу. "
   ]
  },
  {
   "cell_type": "code",
   "execution_count": 60,
   "metadata": {},
   "outputs": [
    {
     "name": "stdout",
     "output_type": "stream",
     "text": [
      "1517 из 15000 являются хираганой.\n",
      "2154 из 15000 являются катаканой.\n",
      "11329 из 15000 содержат кандзи.\n"
     ]
    }
   ],
   "source": [
    "# Syllables. \n",
    "hiragana = set(get_charset('hiragana'))\n",
    "katakana = set(get_charset('katakana'))\n",
    "\n",
    "# Punctuations.\n",
    "punctuation = set(get_charset('cjk_punctuation'))\n",
    "\n",
    "# Kanji characters are other characters in the \"japanese\" set.\n",
    "kanji = set(get_charset('japanese')) - hiragana - katakana - punctuation\n",
    "\n",
    "def is_charset(s, charset):\n",
    "    return len(set(s).intersection(charset)) == len(s)\n",
    "\n",
    "# Analyse lemmas and classify them either as katakana, hiragana, or kanji\n",
    "charset = {'hiragana': [], 'kanji': [], 'katakana': []}\n",
    "\n",
    "for idx, row in data.iterrows():\n",
    "    lemma = row['lemma']\n",
    "    if is_charset(lemma, hiragana):\n",
    "        k = 'hiragana'\n",
    "    elif is_charset(lemma, katakana):\n",
    "        k = 'katakana'\n",
    "    else: \n",
    "        k = 'kanji'\n",
    "    charset[k].append(idx)\n",
    "\n",
    "num_of_lemmas = len(data)\n",
    "print(len(charset['hiragana']), 'из', num_of_lemmas, 'являются хираганой.')\n",
    "print(len(charset['katakana']), 'из', num_of_lemmas, 'являются катаканой.')\n",
    "print(len(charset['kanji']), 'из', num_of_lemmas, 'содержат кандзи.')"
   ]
  },
  {
   "cell_type": "code",
   "execution_count": 65,
   "metadata": {},
   "outputs": [
    {
     "data": {
      "text/plain": [
       "Text(0, 0.5, 'Абсолютное число лемм')"
      ]
     },
     "execution_count": 65,
     "metadata": {},
     "output_type": "execute_result"
    },
    {
     "data": {
      "image/png": "[encoded data removed]",
      "text/plain": [
       "<Figure size 936x360 with 1 Axes>"
      ]
     },
     "metadata": {
      "needs_background": "light"
     },
     "output_type": "display_data"
    }
   ],
   "source": [
    "figure = plt.figure(figsize=(13,5))\n",
    "ax1 = figure.add_subplot(111)\n",
    "ax1.grid()\n",
    "ax1.hist(x=[charset[\"hiragana\"], charset[\"katakana\"], charset[\"kanji\"]], label=[\"Хирагана\", \"Катакана\", \"Кандзи + смешанные\"])\n",
    "ax1.legend()\n",
    "ax1.set_title(\"Частоты хираганы, катаканы и кандзи в японских леммах\")\n",
    "ax1.set_xlabel(\"Ранг лемм\")\n",
    "ax1.set_ylabel(\"Абсолютное число лемм\")"
   ]
  },
  {
   "cell_type": "markdown",
   "metadata": {},
   "source": [
    "Напоследок посмотрим, выполняется ли закон Ципфа для отдельных символов и дополнительно построим графики ранг-логарифм частоты для всех лемм и всех символов, встречаемых в этом дата-сете. Как вы можете видеть, графики хорошо согласуются с теоретической моделью."
   ]
  },
  {
   "cell_type": "code",
   "execution_count": 126,
   "metadata": {
    "scrolled": false
   },
   "outputs": [
    {
     "data": {
      "image/png": "[encoded data removed]",
      "text/plain": [
       "<Figure size 936x360 with 2 Axes>"
      ]
     },
     "metadata": {
      "needs_background": "light"
     },
     "output_type": "display_data"
    }
   ],
   "source": [
    "fig, ax = plt.subplots(ncols=2, nrows=1, figsize=(13, 5))\n",
    "ax[0].plot(data[\"rank\"], data[\"log freq\"], linewidth=3, color='magenta')\n",
    "ax[0].set_title(\"Закон Ципфа: логарифм частоты против ранга слова, все леммы\")\n",
    "ax[0].set_xlabel(\"Ранг\")\n",
    "ax[0].set_ylabel(\"Частота в логарифмической шкале\")\n",
    "ax[0].grid() \n",
    "\n",
    "all_lemmas = data[\"lemma\"].tolist()\n",
    "all_lemmas = ''.join(all_lemmas)\n",
    "all_characters = dict.fromkeys(all_lemmas, 0)\n",
    "for dummy_i in range(len(data[\"lemma\"])):\n",
    "    for dummy_j in data[\"lemma\"][dummy_i]:\n",
    "        all_characters[dummy_j] += 1\n",
    "characters_df = pd.DataFrame.from_dict(all_characters, orient=\"index\", columns=[\"frequency\"])\n",
    "characters_df['log freq'] = characters_df['frequency'].apply(lambda x: np.log(x))\n",
    "characters_df = characters_df.sort_values(by=[\"frequency\"], ascending = False).reset_index()\n",
    "characters_df = characters_df.rename(columns={\"index\": \"character\"})\n",
    "characters_df[\"rank\"] = characters_df[\"frequency\"].rank(method=\"first\", ascending=False)\n",
    "        \n",
    "ax[1].plot(characters_df[\"rank\"], characters_df[\"log freq\"], linewidth=3, color='magenta')\n",
    "ax[1].grid()\n",
    "ax[1].set_title(\"Закон Ципфа: логарифм частоты против ранга символа, все символы\")\n",
    "ax[1].set_xlabel(\"Ранг\")\n",
    "ax[1].set_ylabel(\"Частота в логарифмической шкале\")\n",
    "\n",
    "plt.tight_layout()\n",
    "plt.show()"
   ]
  },
  {
   "cell_type": "code",
   "execution_count": 121,
   "metadata": {},
   "outputs": [
    {
     "data": {
      "text/html": [
       "<div>\n",
       "<style scoped>\n",
       "    .dataframe tbody tr th:only-of-type {\n",
       "        vertical-align: middle;\n",
       "    }\n",
       "\n",
       "    .dataframe tbody tr th {\n",
       "        vertical-align: top;\n",
       "    }\n",
       "\n",
       "    .dataframe thead th {\n",
       "        text-align: right;\n",
       "    }\n",
       "</style>\n",
       "<table border=\"1\" class=\"dataframe\">\n",
       "  <thead>\n",
       "    <tr style=\"text-align: right;\">\n",
       "      <th></th>\n",
       "      <th>character</th>\n",
       "      <th>frequency</th>\n",
       "      <th>log freq</th>\n",
       "      <th>rank</th>\n",
       "    </tr>\n",
       "  </thead>\n",
       "  <tbody>\n",
       "    <tr>\n",
       "      <th>0</th>\n",
       "      <td>る</td>\n",
       "      <td>1135</td>\n",
       "      <td>7.034388</td>\n",
       "      <td>1.0</td>\n",
       "    </tr>\n",
       "    <tr>\n",
       "      <th>1</th>\n",
       "      <td>ー</td>\n",
       "      <td>873</td>\n",
       "      <td>6.771936</td>\n",
       "      <td>2.0</td>\n",
       "    </tr>\n",
       "    <tr>\n",
       "      <th>2</th>\n",
       "      <td>ン</td>\n",
       "      <td>673</td>\n",
       "      <td>6.511745</td>\n",
       "      <td>3.0</td>\n",
       "    </tr>\n",
       "    <tr>\n",
       "      <th>3</th>\n",
       "      <td>い</td>\n",
       "      <td>603</td>\n",
       "      <td>6.401917</td>\n",
       "      <td>4.0</td>\n",
       "    </tr>\n",
       "    <tr>\n",
       "      <th>4</th>\n",
       "      <td>ス</td>\n",
       "      <td>401</td>\n",
       "      <td>5.993961</td>\n",
       "      <td>5.0</td>\n",
       "    </tr>\n",
       "    <tr>\n",
       "      <th>5</th>\n",
       "      <td>ト</td>\n",
       "      <td>368</td>\n",
       "      <td>5.908083</td>\n",
       "      <td>6.0</td>\n",
       "    </tr>\n",
       "    <tr>\n",
       "      <th>6</th>\n",
       "      <td>ル</td>\n",
       "      <td>342</td>\n",
       "      <td>5.834811</td>\n",
       "      <td>7.0</td>\n",
       "    </tr>\n",
       "    <tr>\n",
       "      <th>7</th>\n",
       "      <td>す</td>\n",
       "      <td>338</td>\n",
       "      <td>5.823046</td>\n",
       "      <td>8.0</td>\n",
       "    </tr>\n",
       "    <tr>\n",
       "      <th>8</th>\n",
       "      <td>り</td>\n",
       "      <td>333</td>\n",
       "      <td>5.808142</td>\n",
       "      <td>9.0</td>\n",
       "    </tr>\n",
       "    <tr>\n",
       "      <th>9</th>\n",
       "      <td>し</td>\n",
       "      <td>329</td>\n",
       "      <td>5.796058</td>\n",
       "      <td>10.0</td>\n",
       "    </tr>\n",
       "  </tbody>\n",
       "</table>\n",
       "</div>"
      ],
      "text/plain": [
       "  character  frequency  log freq  rank\n",
       "0         る       1135  7.034388   1.0\n",
       "1         ー        873  6.771936   2.0\n",
       "2         ン        673  6.511745   3.0\n",
       "3         い        603  6.401917   4.0\n",
       "4         ス        401  5.993961   5.0\n",
       "5         ト        368  5.908083   6.0\n",
       "6         ル        342  5.834811   7.0\n",
       "7         す        338  5.823046   8.0\n",
       "8         り        333  5.808142   9.0\n",
       "9         し        329  5.796058  10.0"
      ]
     },
     "execution_count": 121,
     "metadata": {},
     "output_type": "execute_result"
    }
   ],
   "source": [
    "characters_df.head(10)"
   ]
  },
  {
   "cell_type": "code",
   "execution_count": null,
   "metadata": {},
   "outputs": [],
   "source": []
  }
 ],
 "metadata": {
  "kernelspec": {
   "display_name": "Python 3",
   "language": "python",
   "name": "python3"
  },
  "language_info": {
   "codemirror_mode": {
    "name": "ipython",
    "version": 3
   },
   "file_extension": ".py",
   "mimetype": "text/x-python",
   "name": "python",
   "nbconvert_exporter": "python",
   "pygments_lexer": "ipython3",
   "version": "3.6.8"
  }
 },
 "nbformat": 4,
 "nbformat_minor": 2
}
